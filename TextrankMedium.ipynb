{
  "nbformat": 4,
  "nbformat_minor": 0,
  "metadata": {
    "colab": {
      "provenance": []
    },
    "kernelspec": {
      "name": "python3",
      "display_name": "Python 3"
    },
    "language_info": {
      "name": "python"
    }
  },
  "cells": [
    {
      "cell_type": "code",
      "execution_count": null,
      "metadata": {
        "id": "RrwZjhK5sDsV"
      },
      "outputs": [],
      "source": [
        "import numpy as np\n",
        "import pandas as pd\n",
        "import nltk\n",
        "import re\n",
        "from nltk.tokenize import sent_tokenize\n",
        "from nltk.corpus import stopwords\n",
        "from gensim.models import Word2Vec\n",
        "from scipy import spatial\n",
        "import networkx as nx"
      ]
    },
    {
      "cell_type": "code",
      "source": [
        "text = \"The full cost of damage in Newton Stewart, one of the areas worst affected, is still being assessed.\\nRepair work is ongoing in Hawick and many roads in Peeblesshire remain badly affected by standing water.\\nTrains on the west coast mainline face disruption due to damage at the Lamington Viaduct.\\nMany businesses and householders were affected by flooding in Newton Stewart after the River Cree overflowed into the town.\\nFirst Minister Nicola Sturgeon visited the area to inspect the damage.\\nThe waters breached a retaining wall, flooding many commercial properties on Victoria Street - the main shopping thoroughfare.\\nJeanette Tate, who owns the Cinnamon Cafe which was badly affected, said she could not fault the multi-agency response once the flood hit.\\nHowever, she said more preventative work could have been carried out to ensure the retaining wall did not fail.\\n It is difficult but I do think there is so much publicity for Dumfries and the Nith - and I totally appreciate that.\""
      ],
      "metadata": {
        "id": "VN-uqthbYehP"
      },
      "execution_count": null,
      "outputs": []
    },
    {
      "cell_type": "code",
      "source": [
        "!pip install datasets\n",
        "from datasets import load_dataset\n",
        "\n",
        "dataset = load_dataset(\"xsum\")"
      ],
      "metadata": {
        "id": "3MNwK1Uje93g"
      },
      "execution_count": null,
      "outputs": []
    },
    {
      "cell_type": "code",
      "source": [
        "text = dataset['train'][0]['document']"
      ],
      "metadata": {
        "colab": {
          "base_uri": "https://localhost:8080/",
          "height": 191
        },
        "id": "so3CxqXeggy8",
        "outputId": "078cfc30-756a-4bda-8de2-fdc5a8f5c70f"
      },
      "execution_count": null,
      "outputs": [
        {
          "output_type": "execute_result",
          "data": {
            "text/plain": [
              "'The full cost of damage in Newton Stewart, one of the areas worst affected, is still being assessed.\\nRepair work is ongoing in Hawick and many roads in Peeblesshire remain badly affected by standing water.\\nTrains on the west coast mainline face disruption due to damage at the Lamington Viaduct.\\nMany businesses and householders were affected by flooding in Newton Stewart after the River Cree overflowed into the town.\\nFirst Minister Nicola Sturgeon visited the area to inspect the damage.\\nThe waters breached a retaining wall, flooding many commercial properties on Victoria Street - the main shopping thoroughfare.\\nJeanette Tate, who owns the Cinnamon Cafe which was badly affected, said she could not fault the multi-agency response once the flood hit.\\nHowever, she said more preventative work could have been carried out to ensure the retaining wall did not fail.\\n\"It is difficult but I do think there is so much publicity for Dumfries and the Nith - and I totally appreciate that - but it is almost like we\\'re neglected or forgotten,\" she said.\\n\"That may not be true but it is perhaps my perspective over the last few days.\\n\"Why were you not ready to help us a bit more when the warning and the alarm alerts had gone out?\"\\nMeanwhile, a flood alert remains in place across the Borders because of the constant rain.\\nPeebles was badly hit by problems, sparking calls to introduce more defences in the area.\\nScottish Borders Council has put a list on its website of the roads worst affected and drivers have been urged not to ignore closure signs.\\nThe Labour Party\\'s deputy Scottish leader Alex Rowley was in Hawick on Monday to see the situation first hand.\\nHe said it was important to get the flood protection plan right but backed calls to speed up the process.\\n\"I was quite taken aback by the amount of damage that has been done,\" he said.\\n\"Obviously it is heart-breaking for people who have been forced out of their homes and the impact on businesses.\"\\nHe said it was important that \"immediate steps\" were taken to protect the areas most vulnerable and a clear timetable put in place for flood prevention plans.\\nHave you been affected by flooding in Dumfries and Galloway or the Borders? Tell us about your experience of the situation and how it was handled. Email us on selkirk.news@bbc.co.uk or dumfries@bbc.co.uk.'"
            ],
            "application/vnd.google.colaboratory.intrinsic+json": {
              "type": "string"
            }
          },
          "metadata": {},
          "execution_count": 5
        }
      ]
    },
    {
      "cell_type": "markdown",
      "source": [
        "# New Section"
      ],
      "metadata": {
        "id": "T3b9OPn93byS"
      }
    },
    {
      "cell_type": "code",
      "source": [
        "import nltk\n",
        "nltk.download('punkt')\n",
        "import nltk\n",
        "nltk.download('stopwords')\n",
        "from google.colab import files\n",
        "sentences=sent_tokenize(text)"
      ],
      "metadata": {
        "colab": {
          "base_uri": "https://localhost:8080/"
        },
        "id": "VGP43fwJsL7g",
        "outputId": "a3e020ad-df9b-48a7-e3f9-29b62bd7b33f"
      },
      "execution_count": null,
      "outputs": [
        {
          "output_type": "stream",
          "name": "stderr",
          "text": [
            "[nltk_data] Downloading package punkt to /root/nltk_data...\n",
            "[nltk_data]   Unzipping tokenizers/punkt.zip.\n",
            "[nltk_data] Downloading package stopwords to /root/nltk_data...\n",
            "[nltk_data]   Unzipping corpora/stopwords.zip.\n"
          ]
        }
      ]
    },
    {
      "cell_type": "code",
      "source": [
        "import os\n",
        "\n",
        "# Mount Google Drive\n",
        "from google.colab import drive\n",
        "drive.mount('/content/drive')\n",
        "\n",
        "# Create a folder in the root directory\n",
        "!mkdir -p \"/content/drive/My Drive/Textranked BBC News/sport\"\n"
      ],
      "metadata": {
        "id": "hMNg1mpXZ4x2",
        "colab": {
          "base_uri": "https://localhost:8080/"
        },
        "outputId": "fe6860f4-f92c-405a-ca22-13758b4ee045"
      },
      "execution_count": null,
      "outputs": [
        {
          "output_type": "stream",
          "name": "stdout",
          "text": [
            "Drive already mounted at /content/drive; to attempt to forcibly remount, call drive.mount(\"/content/drive\", force_remount=True).\n"
          ]
        }
      ]
    },
    {
      "cell_type": "code",
      "source": [
        "for x in range(401):\n",
        "  x = x+1\n",
        "  if x < 10 :\n",
        "    file_name = \"00\" + str(x) + \".txt\"\n",
        "  if 9 < x < 100 :\n",
        "    file_name = \"0\" + str(x) + \".txt\"\n",
        "  if x > 99 :\n",
        "    file_name = str(x) + \".txt\"\n",
        "  !rm {file_name}"
      ],
      "metadata": {
        "id": "DctQKpvsq-_6"
      },
      "execution_count": null,
      "outputs": []
    },
    {
      "cell_type": "code",
      "source": [
        "n = 0\n",
        "for n in range(511):\n",
        "  n = n+1\n",
        "  if n < 10 :\n",
        "    file_name = \"00\" + str(n) + \".txt\"\n",
        "    new_file_name = \"textrank_00\" + str(n) + \".txt\"\n",
        "    file_name_directory = \"/content/drive/My Drive/Textranked BBC News/sport/\" + new_file_name\n",
        "  if 9 < n < 100 :\n",
        "    file_name = \"0\" + str(n) + \".txt\"\n",
        "    new_file_name = \"textrank_0\" + str(n) + \".txt\"\n",
        "    file_name_directory = \"/content/drive/My Drive/Textranked BBC News/sport/\" + new_file_name\n",
        "  if n > 99 :\n",
        "    file_name = str(n) + \".txt\"\n",
        "    new_file_name = \"textrank_\" + str(n) + \".txt\"\n",
        "    file_name_directory =\"/content/drive/My Drive/Textranked BBC News/sport/\" + new_file_name\n",
        "  with open(file_name, encoding=\"utf-8\") as m:\n",
        "    hypo = [line.rstrip('\\n') for line in m]\n",
        "  for h in hypo:\n",
        "    if h=='' :\n",
        "      hypo.remove(h)\n",
        "  del hypo[0]\n",
        "  text = ' '.join(hypo)\n",
        "  sentences=sent_tokenize(text)\n",
        "  sentences_clean=[re.sub(r'[^\\w\\s]','',sentence.lower()) for sentence in sentences]\n",
        "  stop_words = stopwords.words('english')\n",
        "  sentence_tokens=[[words for words in sentence.split(' ') if words not in stop_words] for sentence in sentences_clean]\n",
        "\n",
        "  w2v=Word2Vec(sentence_tokens,vector_size=3,min_count=1,epochs=1000)\n",
        "  sentence_embeddings=[[w2v.wv[word][0] for word in words] for words in sentence_tokens]\n",
        "  max_len=max([len(tokens) for tokens in sentence_tokens])\n",
        "  sentence_embeddings=[np.pad(embedding,(0,max_len-len(embedding)),'constant') for embedding in sentence_embeddings]\n",
        "\n",
        "  similarity_matrix = np.zeros([len(sentence_tokens), len(sentence_tokens)])\n",
        "  for i,row_embedding in enumerate(sentence_embeddings):\n",
        "      for j,column_embedding in enumerate(sentence_embeddings):\n",
        "          similarity_matrix[i][j]=abs(1-spatial.distance.cosine(row_embedding,column_embedding))\n",
        "  nx_graph = nx.from_numpy_array(similarity_matrix)\n",
        "  scores = nx.pagerank(nx_graph)\n",
        "  top_sentence={sentence:scores[index] for index,sentence in enumerate(sentences)}\n",
        "  top=dict(sorted(top_sentence.items(), key=lambda x: x[1], reverse=True)[:4])\n",
        "  new_file_name = \"/content/new_folder/\" + new_file_name\n",
        "  for sent in sentences:\n",
        "    if sent in top.keys():\n",
        "      #print(sent+'\\n')\n",
        "      #print(new_file_name)\n",
        "      #print(file_name_directory)\n",
        "      with open(file_name_directory, 'a') as f:\n",
        "        f.write(sent)\n",
        "  print(\"text \" + str(n) + \" summarized\")\n",
        "  #files.download(file_name_directory)\n",
        "\n"
      ],
      "metadata": {
        "id": "wwtqAOqV3sZT"
      },
      "execution_count": null,
      "outputs": []
    },
    {
      "cell_type": "code",
      "source": [
        "!ls \"/content/drive/My Drive/Textranked BBC News/tech\""
      ],
      "metadata": {
        "id": "vF-L6FC7a0aB"
      },
      "execution_count": null,
      "outputs": []
    },
    {
      "cell_type": "code",
      "source": [
        "similarity_matrix = np.zeros([len(sentence_tokens), len(sentence_tokens)])\n",
        "print(similarity_matrix)\n",
        "for i,row_embedding in enumerate(sentence_embeddings):\n",
        "    for j,column_embedding in enumerate(sentence_embeddings):\n",
        "        similarity_matrix[i][j]=abs(1-spatial.distance.cosine(row_embedding,column_embedding)) #!!!!!!!!!!!! please check negative distance\n",
        "print(similarity_matrix)"
      ],
      "metadata": {
        "id": "J50bIfyksWR7",
        "colab": {
          "base_uri": "https://localhost:8080/"
        },
        "outputId": "966228bb-7785-4a5f-ff6c-e8033bb19fa8"
      },
      "execution_count": null,
      "outputs": [
        {
          "output_type": "stream",
          "name": "stdout",
          "text": [
            "[[0. 0. 0. 0. 0. 0. 0. 0. 0.]\n",
            " [0. 0. 0. 0. 0. 0. 0. 0. 0.]\n",
            " [0. 0. 0. 0. 0. 0. 0. 0. 0.]\n",
            " [0. 0. 0. 0. 0. 0. 0. 0. 0.]\n",
            " [0. 0. 0. 0. 0. 0. 0. 0. 0.]\n",
            " [0. 0. 0. 0. 0. 0. 0. 0. 0.]\n",
            " [0. 0. 0. 0. 0. 0. 0. 0. 0.]\n",
            " [0. 0. 0. 0. 0. 0. 0. 0. 0.]\n",
            " [0. 0. 0. 0. 0. 0. 0. 0. 0.]]\n",
            "[[1.         0.52101141 0.13005024 0.37065312 0.01869271 0.35524154\n",
            "  0.20151387 0.38051304 0.24294108]\n",
            " [0.52101141 1.         0.44421318 0.34088176 0.32418856 0.54517913\n",
            "  0.53458232 0.03019713 0.50487602]\n",
            " [0.13005024 0.44421318 1.         0.7473821  0.82897246 0.60159701\n",
            "  0.73471171 0.66323185 0.84917402]\n",
            " [0.37065312 0.34088176 0.7473821  1.         0.67390656 0.69016725\n",
            "  0.76443368 0.43235549 0.72629368]\n",
            " [0.01869271 0.32418856 0.82897246 0.67390656 1.         0.49716294\n",
            "  0.64910191 0.78465319 0.90690953]\n",
            " [0.35524154 0.54517913 0.60159701 0.69016725 0.49716294 1.\n",
            "  0.92602736 0.23000433 0.637802  ]\n",
            " [0.20151387 0.53458232 0.73471171 0.76443368 0.64910191 0.92602736\n",
            "  1.         0.38033426 0.72447163]\n",
            " [0.38051304 0.03019713 0.66323185 0.43235549 0.78465319 0.23000433\n",
            "  0.38033426 1.         0.5324682 ]\n",
            " [0.24294108 0.50487602 0.84917402 0.72629368 0.90690953 0.637802\n",
            "  0.72447163 0.5324682  1.        ]]\n"
          ]
        }
      ]
    }
  ]
}